{
 "cells": [
  {
   "cell_type": "markdown",
   "id": "51f36b4a",
   "metadata": {},
   "source": [
    "**1.Write a Python program to print \"Hello Python\"?**\n"
   ]
  },
  {
   "cell_type": "code",
   "execution_count": 1,
   "id": "82c664bb",
   "metadata": {},
   "outputs": [
    {
     "name": "stdout",
     "output_type": "stream",
     "text": [
      "Hello Python\n"
     ]
    }
   ],
   "source": [
    "print(\"Hello Python\")"
   ]
  },
  {
   "cell_type": "markdown",
   "id": "bcce5193",
   "metadata": {},
   "source": [
    "**2.Write a Python program to do arithmetical operations addition and division.?**\n"
   ]
  },
  {
   "cell_type": "code",
   "execution_count": 3,
   "id": "f574de32",
   "metadata": {},
   "outputs": [
    {
     "name": "stdout",
     "output_type": "stream",
     "text": [
      "Value of a+b is: 30\n",
      "Value of b-a is: 10\n"
     ]
    }
   ],
   "source": [
    "a = 10\n",
    "b = 20\n",
    "\n",
    "print(\"Value of a+b is:\",a+b)\n",
    "print(\"Value of b-a is:\",(b-a))"
   ]
  },
  {
   "cell_type": "markdown",
   "id": "00f09af1",
   "metadata": {},
   "source": [
    "**3.Write a Python program to find the area of a triangle?**"
   ]
  },
  {
   "cell_type": "code",
   "execution_count": 4,
   "id": "c26db08a",
   "metadata": {},
   "outputs": [
    {
     "name": "stdout",
     "output_type": "stream",
     "text": [
      "Enter the base of triangle:5\n",
      "Enter the height of triangle:10\n",
      "The area of the triangle is: 25.0\n"
     ]
    }
   ],
   "source": [
    "b = float(input(\"Enter the base of triangle:\"))\n",
    "h = float(input(\"Enter the height of triangle:\"))\n",
    "print(\"The area of the triangle is:\",(0.5*b*h))"
   ]
  },
  {
   "cell_type": "markdown",
   "id": "0f3a1eaf",
   "metadata": {},
   "source": [
    "**4.Write a Python program to swap two variables?**\n"
   ]
  },
  {
   "cell_type": "code",
   "execution_count": 5,
   "id": "c5633d2a",
   "metadata": {},
   "outputs": [
    {
     "name": "stdout",
     "output_type": "stream",
     "text": [
      "The values of a,b before swapping are: 10 , 20\n",
      "The values of a,b after swapping are: 20 , 10\n"
     ]
    }
   ],
   "source": [
    "a = 10\n",
    "b = 20\n",
    "\n",
    "print(\"The values of a,b before swapping are:\",a,\",\",b)\n",
    "\n",
    "#swapping code\n",
    "temp = a\n",
    "a = b\n",
    "b = temp\n",
    "\n",
    "print(\"The values of a,b after swapping are:\",a,\",\",b)"
   ]
  },
  {
   "cell_type": "markdown",
   "id": "07ac1b69",
   "metadata": {},
   "source": [
    "**5.Write a Python program to generate a random number?**"
   ]
  },
  {
   "cell_type": "code",
   "execution_count": 22,
   "id": "42580f28",
   "metadata": {},
   "outputs": [
    {
     "name": "stdout",
     "output_type": "stream",
     "text": [
      "9\n"
     ]
    }
   ],
   "source": [
    "import random\n",
    "#Generates a rondom number between 1 and 10\n",
    "print(random.randint(1,10))"
   ]
  }
 ],
 "metadata": {
  "kernelspec": {
   "display_name": "Python 3 (ipykernel)",
   "language": "python",
   "name": "python3"
  },
  "language_info": {
   "codemirror_mode": {
    "name": "ipython",
    "version": 3
   },
   "file_extension": ".py",
   "mimetype": "text/x-python",
   "name": "python",
   "nbconvert_exporter": "python",
   "pygments_lexer": "ipython3",
   "version": "3.9.6"
  }
 },
 "nbformat": 4,
 "nbformat_minor": 5
}
