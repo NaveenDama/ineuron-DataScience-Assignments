{
 "cells": [
  {
   "cell_type": "markdown",
   "id": "51f36b4a",
   "metadata": {},
   "source": [
    "**1.Write a Python program to convert kilometers to miles?**\n"
   ]
  },
  {
   "cell_type": "code",
   "execution_count": 2,
   "id": "82c664bb",
   "metadata": {},
   "outputs": [
    {
     "name": "stdout",
     "output_type": "stream",
     "text": [
      "Enter the value in Kilometers:20\n",
      "20.0 kilometers is equal to 12.42742 miles\n"
     ]
    }
   ],
   "source": [
    "kilometers = float(input(\"Enter the value in Kilometers:\"))\n",
    "miles = 0.621371* kilometers\n",
    "print(f\"{kilometers} kilometers is equal to {miles} miles\")"
   ]
  },
  {
   "cell_type": "markdown",
   "id": "bcce5193",
   "metadata": {},
   "source": [
    "**2.Write a Python program to convert Celsius to Fahrenheit?**\n"
   ]
  },
  {
   "cell_type": "code",
   "execution_count": 6,
   "id": "f574de32",
   "metadata": {},
   "outputs": [
    {
     "name": "stdout",
     "output_type": "stream",
     "text": [
      "Enter the temperature in Celsius:37\n",
      "The temperature in celsius is: 37.0\n",
      "The temperature in farhenheit is: 98.60\n"
     ]
    }
   ],
   "source": [
    "celsius = float(input(\"Enter the temperature in Celsius:\"))\n",
    "farhenheit = 9/5* celsius + 32\n",
    "print(\"The temperature in celsius is:\",celsius)\n",
    "print(\"The temperature in farhenheit is: %.2f\"%(farhenheit))"
   ]
  },
  {
   "cell_type": "markdown",
   "id": "00f09af1",
   "metadata": {},
   "source": [
    "**3.Write a Python program to display calendar?**"
   ]
  },
  {
   "cell_type": "code",
   "execution_count": 14,
   "id": "c26db08a",
   "metadata": {},
   "outputs": [
    {
     "name": "stdout",
     "output_type": "stream",
     "text": [
      "Enter the year:2019\n",
      "                                  2019\n",
      "\n",
      "      January                   February                   March\n",
      "Mo Tu We Th Fr Sa Su      Mo Tu We Th Fr Sa Su      Mo Tu We Th Fr Sa Su\n",
      "    1  2  3  4  5  6                   1  2  3                   1  2  3\n",
      " 7  8  9 10 11 12 13       4  5  6  7  8  9 10       4  5  6  7  8  9 10\n",
      "14 15 16 17 18 19 20      11 12 13 14 15 16 17      11 12 13 14 15 16 17\n",
      "21 22 23 24 25 26 27      18 19 20 21 22 23 24      18 19 20 21 22 23 24\n",
      "28 29 30 31               25 26 27 28               25 26 27 28 29 30 31\n",
      "\n",
      "       April                      May                       June\n",
      "Mo Tu We Th Fr Sa Su      Mo Tu We Th Fr Sa Su      Mo Tu We Th Fr Sa Su\n",
      " 1  2  3  4  5  6  7             1  2  3  4  5                      1  2\n",
      " 8  9 10 11 12 13 14       6  7  8  9 10 11 12       3  4  5  6  7  8  9\n",
      "15 16 17 18 19 20 21      13 14 15 16 17 18 19      10 11 12 13 14 15 16\n",
      "22 23 24 25 26 27 28      20 21 22 23 24 25 26      17 18 19 20 21 22 23\n",
      "29 30                     27 28 29 30 31            24 25 26 27 28 29 30\n",
      "\n",
      "        July                     August                  September\n",
      "Mo Tu We Th Fr Sa Su      Mo Tu We Th Fr Sa Su      Mo Tu We Th Fr Sa Su\n",
      " 1  2  3  4  5  6  7                1  2  3  4                         1\n",
      " 8  9 10 11 12 13 14       5  6  7  8  9 10 11       2  3  4  5  6  7  8\n",
      "15 16 17 18 19 20 21      12 13 14 15 16 17 18       9 10 11 12 13 14 15\n",
      "22 23 24 25 26 27 28      19 20 21 22 23 24 25      16 17 18 19 20 21 22\n",
      "29 30 31                  26 27 28 29 30 31         23 24 25 26 27 28 29\n",
      "                                                    30\n",
      "\n",
      "      October                   November                  December\n",
      "Mo Tu We Th Fr Sa Su      Mo Tu We Th Fr Sa Su      Mo Tu We Th Fr Sa Su\n",
      "    1  2  3  4  5  6                   1  2  3                         1\n",
      " 7  8  9 10 11 12 13       4  5  6  7  8  9 10       2  3  4  5  6  7  8\n",
      "14 15 16 17 18 19 20      11 12 13 14 15 16 17       9 10 11 12 13 14 15\n",
      "21 22 23 24 25 26 27      18 19 20 21 22 23 24      16 17 18 19 20 21 22\n",
      "28 29 30 31               25 26 27 28 29 30         23 24 25 26 27 28 29\n",
      "                                                    30 31\n",
      "\n"
     ]
    }
   ],
   "source": [
    "import calendar\n",
    "year = int(input(\"Enter the year:\"))\n",
    "print(calendar.calendar(year))"
   ]
  },
  {
   "cell_type": "markdown",
   "id": "0f3a1eaf",
   "metadata": {},
   "source": [
    "**4.Write a Python program to solve quadratic equation?**\n"
   ]
  },
  {
   "cell_type": "code",
   "execution_count": 24,
   "id": "c5633d2a",
   "metadata": {},
   "outputs": [
    {
     "name": "stdout",
     "output_type": "stream",
     "text": [
      "Enter the value of a:1\n",
      "Enter the value of b:5\n",
      "Enter the value of c:2\n",
      "The roots are -4.561552812808831 and -0.4384471871911697\n"
     ]
    }
   ],
   "source": [
    "import cmath\n",
    "import math\n",
    "\n",
    "a = int(input(\"Enter the value of a:\"))\n",
    "b = int(input(\"Enter the value of b:\"))\n",
    "c = int(input(\"Enter the value of c:\"))\n",
    "\n",
    "# Discriminant\n",
    "d = (b**2) - (4*a*c)\n",
    "\n",
    "root1 = None\n",
    "root2 = None\n",
    "\n",
    "# Imaginary roots\n",
    "if(d <  0):\n",
    "    root1 = (-b-cmath.sqrt(d))/(2*a)\n",
    "    root2 = (-b+cmath.sqrt(d))/(2*a)\n",
    "#Real roots\n",
    "elif(d >= 0):\n",
    "    root1 = (-b-math.sqrt(d))/(2*a)\n",
    "    root2 = (-b+math.sqrt(d))/(2*a)\n",
    "\n",
    "\n",
    "print('The roots are {0} and {1}'.format(root1,root2))"
   ]
  },
  {
   "cell_type": "markdown",
   "id": "07ac1b69",
   "metadata": {},
   "source": [
    "**5.Write a Python program to swap two variables without temp variable?**"
   ]
  },
  {
   "cell_type": "code",
   "execution_count": 25,
   "id": "42580f28",
   "metadata": {},
   "outputs": [
    {
     "name": "stdout",
     "output_type": "stream",
     "text": [
      "Enter the values a:10\n",
      "Enter the values b:20\n",
      "The values of a,b before swapping are:10,20\n",
      "The values of a,b after swapping are:20,10\n"
     ]
    }
   ],
   "source": [
    "a = int(input(\"Enter the values a:\"))\n",
    "b = int(input(\"Enter the values b:\"))\n",
    "\n",
    "print(f\"The values of a,b before swapping are:{a},{b}\")\n",
    "#swapping the values without using temp variable\n",
    "a,b = b,a\n",
    "print(f\"The values of a,b after swapping are:{a},{b}\")"
   ]
  }
 ],
 "metadata": {
  "kernelspec": {
   "display_name": "Python 3 (ipykernel)",
   "language": "python",
   "name": "python3"
  },
  "language_info": {
   "codemirror_mode": {
    "name": "ipython",
    "version": 3
   },
   "file_extension": ".py",
   "mimetype": "text/x-python",
   "name": "python",
   "nbconvert_exporter": "python",
   "pygments_lexer": "ipython3",
   "version": "3.9.6"
  }
 },
 "nbformat": 4,
 "nbformat_minor": 5
}
